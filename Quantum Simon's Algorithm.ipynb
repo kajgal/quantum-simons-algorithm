{
 "cells": [
  {
   "cell_type": "markdown",
   "metadata": {},
   "source": [
    "# Quantum Simon's Algorithm"
   ]
  },
  {
   "cell_type": "code",
   "execution_count": 1,
   "metadata": {},
   "outputs": [],
   "source": [
    "import pandas as pd\n",
    "import numpy as np\n",
    "from qiskit import *\n",
    "from qiskit.visualization import plot_histogram"
   ]
  },
  {
   "cell_type": "markdown",
   "metadata": {},
   "source": [
    "## Basic assumptions:\n",
    "- Bit indexing starts from the right side\n",
    "- Qiskit has the least significant bit at the top which means it's the same indexing but from top to bottom"
   ]
  },
  {
   "cell_type": "code",
   "execution_count": 2,
   "metadata": {},
   "outputs": [
    {
     "name": "stdout",
     "output_type": "stream",
     "text": [
      "n-Qubits: 3\n",
      "Index: 452758\n",
      "Index mod 8: 6\n",
      "Secret: 110\n",
      "Hidden subgroup: {000, 110} \n"
     ]
    }
   ],
   "source": [
    "index = 452758\n",
    "n_qubits = 3\n",
    "trivial = \"{0:b}\".format(0).zfill(n_qubits)\n",
    "secret = \"{0:b}\".format(index % (np.power(2, n_qubits))).zfill(n_qubits)\n",
    "hidden_subgroup = [trivial, secret]\n",
    "\n",
    "print('n-Qubits: {n}'.format(n = n_qubits))\n",
    "print('Index: {index}'.format(index = index))\n",
    "print('Index mod {mod}: {res}'.format(mod = np.power(2, n_qubits), res = index % (np.power(2, n_qubits))))\n",
    "print('Secret: {secret}'.format(secret = secret))\n",
    "print('Hidden subgroup: {{{hidden_subgroup}}} '.format(hidden_subgroup = ', '.join(hidden_subgroup)))"
   ]
  },
  {
   "cell_type": "markdown",
   "metadata": {},
   "source": [
    "## General creation of Simon oracle for n qubits"
   ]
  },
  {
   "cell_type": "code",
   "execution_count": 11,
   "metadata": {},
   "outputs": [],
   "source": [
    "# customizable oracle function\n",
    "def draw_simon_oracle(circ, secret, n_qubits = 3):\n",
    "    # copy input to output cubits\n",
    "    for i in range(n_qubits):\n",
    "        circ.cx(i, n_qubits + i)\n",
    "\n",
    "    # apply two-to-one mapping\n",
    "\n",
    "    # check if it's not trivial with zeros only \n",
    "    if \"1\" in secret:\n",
    "        secret = secret[::-1]\n",
    "        # find the least index j in secret where the value is 1\n",
    "        j = secret.find(\"1\")\n",
    "\n",
    "        # XOR output register with input when there is 1 starting from j index\n",
    "        for i in range(j, len(secret)):\n",
    "            if secret[j] == \"1\":\n",
    "                circ.cx(j, n_qubits + i)"
   ]
  },
  {
   "cell_type": "markdown",
   "metadata": {},
   "source": [
    "## Pre-processing"
   ]
  },
  {
   "cell_type": "markdown",
   "metadata": {},
   "source": [
    "#### XOR helper function"
   ]
  },
  {
   "cell_type": "code",
   "execution_count": 4,
   "metadata": {},
   "outputs": [],
   "source": [
    "def xor(x, y):\n",
    "    res = ''\n",
    "    for i in range(len(x)):\n",
    "        if x[i] == y[i]:\n",
    "            res += '0'\n",
    "        else:\n",
    "            res += '1'\n",
    "\n",
    "    return res"
   ]
  },
  {
   "cell_type": "markdown",
   "metadata": {},
   "source": [
    "#### Manual oracle helper function"
   ]
  },
  {
   "cell_type": "code",
   "execution_count": 6,
   "metadata": {},
   "outputs": [],
   "source": [
    "def oracle_function(x, secret):\n",
    "    x = x[::-1]\n",
    "    res = ''\n",
    "    if \"1\" in secret:\n",
    "        secret = secret[::-1]\n",
    "        # find the least index j in secret where the value is 1\n",
    "        j = secret.find(\"1\")\n",
    "\n",
    "        # simulate behaviour of quantum oracle to get output values\n",
    "        for i in range(0, len(secret)):\n",
    "            if i >= j and secret[i] == \"1\":\n",
    "                if x[j] == x[i]:\n",
    "                    res += '0'\n",
    "                else:\n",
    "                    res += x[i]\n",
    "            else:\n",
    "                res += x[i]\n",
    "    return res"
   ]
  },
  {
   "cell_type": "markdown",
   "metadata": {},
   "source": [
    "#### Describe group"
   ]
  },
  {
   "cell_type": "code",
   "execution_count": 7,
   "metadata": {},
   "outputs": [
    {
     "data": {
      "text/html": [
       "<div>\n",
       "<style scoped>\n",
       "    .dataframe tbody tr th:only-of-type {\n",
       "        vertical-align: middle;\n",
       "    }\n",
       "\n",
       "    .dataframe tbody tr th {\n",
       "        vertical-align: top;\n",
       "    }\n",
       "\n",
       "    .dataframe thead th {\n",
       "        text-align: right;\n",
       "    }\n",
       "</style>\n",
       "<table border=\"1\" class=\"dataframe\">\n",
       "  <thead>\n",
       "    <tr style=\"text-align: right;\">\n",
       "      <th></th>\n",
       "      <th>element</th>\n",
       "    </tr>\n",
       "  </thead>\n",
       "  <tbody>\n",
       "    <tr>\n",
       "      <th>0</th>\n",
       "      <td>000</td>\n",
       "    </tr>\n",
       "    <tr>\n",
       "      <th>1</th>\n",
       "      <td>001</td>\n",
       "    </tr>\n",
       "    <tr>\n",
       "      <th>2</th>\n",
       "      <td>010</td>\n",
       "    </tr>\n",
       "    <tr>\n",
       "      <th>3</th>\n",
       "      <td>011</td>\n",
       "    </tr>\n",
       "    <tr>\n",
       "      <th>4</th>\n",
       "      <td>100</td>\n",
       "    </tr>\n",
       "    <tr>\n",
       "      <th>5</th>\n",
       "      <td>101</td>\n",
       "    </tr>\n",
       "    <tr>\n",
       "      <th>6</th>\n",
       "      <td>110</td>\n",
       "    </tr>\n",
       "    <tr>\n",
       "      <th>7</th>\n",
       "      <td>111</td>\n",
       "    </tr>\n",
       "  </tbody>\n",
       "</table>\n",
       "</div>"
      ],
      "text/plain": [
       "  element\n",
       "0     000\n",
       "1     001\n",
       "2     010\n",
       "3     011\n",
       "4     100\n",
       "5     101\n",
       "6     110\n",
       "7     111"
      ]
     },
     "metadata": {},
     "output_type": "display_data"
    }
   ],
   "source": [
    "group_df = pd.DataFrame()\n",
    "group_elements = [\"{0:b}\".format(x).zfill(n_qubits) for x in range(2**n_qubits)]\n",
    "group_df['element'] = group_elements\n",
    "display(group_df)"
   ]
  },
  {
   "cell_type": "markdown",
   "metadata": {},
   "source": [
    "#### Extract left-side layers\n",
    "Performs g + H = {g + h : h in H} and prints out all left-side layers"
   ]
  },
  {
   "cell_type": "code",
   "execution_count": 8,
   "metadata": {},
   "outputs": [
    {
     "data": {
      "text/html": [
       "<div>\n",
       "<style scoped>\n",
       "    .dataframe tbody tr th:only-of-type {\n",
       "        vertical-align: middle;\n",
       "    }\n",
       "\n",
       "    .dataframe tbody tr th {\n",
       "        vertical-align: top;\n",
       "    }\n",
       "\n",
       "    .dataframe thead th {\n",
       "        text-align: right;\n",
       "    }\n",
       "</style>\n",
       "<table border=\"1\" class=\"dataframe\">\n",
       "  <thead>\n",
       "    <tr style=\"text-align: right;\">\n",
       "      <th></th>\n",
       "      <th>layers</th>\n",
       "    </tr>\n",
       "  </thead>\n",
       "  <tbody>\n",
       "    <tr>\n",
       "      <th>0</th>\n",
       "      <td>(000, 110)</td>\n",
       "    </tr>\n",
       "    <tr>\n",
       "      <th>1</th>\n",
       "      <td>(001, 111)</td>\n",
       "    </tr>\n",
       "    <tr>\n",
       "      <th>2</th>\n",
       "      <td>(010, 100)</td>\n",
       "    </tr>\n",
       "    <tr>\n",
       "      <th>3</th>\n",
       "      <td>(011, 101)</td>\n",
       "    </tr>\n",
       "  </tbody>\n",
       "</table>\n",
       "</div>"
      ],
      "text/plain": [
       "       layers\n",
       "0  (000, 110)\n",
       "1  (001, 111)\n",
       "2  (010, 100)\n",
       "3  (011, 101)"
      ]
     },
     "metadata": {},
     "output_type": "display_data"
    }
   ],
   "source": [
    "# set in order to maintain uniqness of layers\n",
    "leftside_layers = set()\n",
    "\n",
    "for element in group_elements:\n",
    "    xored = [xor(element, sub_element) for sub_element in hidden_subgroup]\n",
    "    # sort elements inside layer\n",
    "    xored.sort()\n",
    "    xored = tuple(xored)\n",
    "    leftside_layers.add(xored)\n",
    "\n",
    "# sort all layers by it's first element for better readability\n",
    "leftside_layers = list(leftside_layers)\n",
    "leftside_layers.sort()\n",
    "\n",
    "leftside_layers_df = pd.DataFrame()\n",
    "leftside_layers_df['layers'] = list(leftside_layers)\n",
    "\n",
    "display(leftside_layers_df)"
   ]
  },
  {
   "cell_type": "markdown",
   "metadata": {},
   "source": [
    "#### Create two-to-one function"
   ]
  },
  {
   "cell_type": "code",
   "execution_count": 9,
   "metadata": {},
   "outputs": [
    {
     "name": "stdout",
     "output_type": "stream",
     "text": [
      "Two-to-one function mapped 8 possible inputs to 4 unique outputs.\n"
     ]
    },
    {
     "data": {
      "text/html": [
       "<div>\n",
       "<style scoped>\n",
       "    .dataframe tbody tr th:only-of-type {\n",
       "        vertical-align: middle;\n",
       "    }\n",
       "\n",
       "    .dataframe tbody tr th {\n",
       "        vertical-align: top;\n",
       "    }\n",
       "\n",
       "    .dataframe thead th {\n",
       "        text-align: right;\n",
       "    }\n",
       "</style>\n",
       "<table border=\"1\" class=\"dataframe\">\n",
       "  <thead>\n",
       "    <tr style=\"text-align: right;\">\n",
       "      <th></th>\n",
       "      <th>g</th>\n",
       "      <th>f(g)</th>\n",
       "      <th>pair_symbol</th>\n",
       "    </tr>\n",
       "  </thead>\n",
       "  <tbody>\n",
       "    <tr>\n",
       "      <th>0</th>\n",
       "      <td>000</td>\n",
       "      <td>000</td>\n",
       "      <td>0</td>\n",
       "    </tr>\n",
       "    <tr>\n",
       "      <th>1</th>\n",
       "      <td>001</td>\n",
       "      <td>100</td>\n",
       "      <td>4</td>\n",
       "    </tr>\n",
       "    <tr>\n",
       "      <th>2</th>\n",
       "      <td>010</td>\n",
       "      <td>000</td>\n",
       "      <td>0</td>\n",
       "    </tr>\n",
       "    <tr>\n",
       "      <th>3</th>\n",
       "      <td>011</td>\n",
       "      <td>100</td>\n",
       "      <td>4</td>\n",
       "    </tr>\n",
       "    <tr>\n",
       "      <th>4</th>\n",
       "      <td>100</td>\n",
       "      <td>001</td>\n",
       "      <td>1</td>\n",
       "    </tr>\n",
       "    <tr>\n",
       "      <th>5</th>\n",
       "      <td>101</td>\n",
       "      <td>101</td>\n",
       "      <td>5</td>\n",
       "    </tr>\n",
       "    <tr>\n",
       "      <th>6</th>\n",
       "      <td>110</td>\n",
       "      <td>000</td>\n",
       "      <td>0</td>\n",
       "    </tr>\n",
       "    <tr>\n",
       "      <th>7</th>\n",
       "      <td>111</td>\n",
       "      <td>100</td>\n",
       "      <td>4</td>\n",
       "    </tr>\n",
       "  </tbody>\n",
       "</table>\n",
       "</div>"
      ],
      "text/plain": [
       "     g f(g)  pair_symbol\n",
       "0  000  000            0\n",
       "1  001  100            4\n",
       "2  010  000            0\n",
       "3  011  100            4\n",
       "4  100  001            1\n",
       "5  101  101            5\n",
       "6  110  000            0\n",
       "7  111  100            4"
      ]
     },
     "metadata": {},
     "output_type": "display_data"
    }
   ],
   "source": [
    "function_df = pd.DataFrame()\n",
    "\n",
    "# possible inputs (group elements)\n",
    "function_df['g'] = group_elements\n",
    "\n",
    "# two-to-one function outputs\n",
    "two_to_one_values = [oracle_function(x, secret) for x in group_elements]\n",
    "function_df['f(g)'] = two_to_one_values\n",
    "\n",
    "# assign same value to group elements with same two-to-one function value to emphasize the mapping\n",
    "pair_symbols = function_df['f(g)'].apply(lambda x: int(x, 2))\n",
    "function_df['pair_symbol'] = pair_symbols\n",
    "\n",
    "# print out information about function result\n",
    "inputs_size = len(group_elements)\n",
    "outputs_size = len(set(pair_symbols))\n",
    "\n",
    "print('Two-to-one function mapped {elements_number} possible inputs to {values_number} unique outputs.'.format(elements_number = inputs_size, values_number = outputs_size))\n",
    "display(function_df)"
   ]
  },
  {
   "cell_type": "markdown",
   "metadata": {},
   "source": [
    "## Circuit creation"
   ]
  },
  {
   "cell_type": "code",
   "execution_count": 12,
   "metadata": {},
   "outputs": [
    {
     "data": {
      "image/png": "[encoded data removed]",
      "text/plain": [
       "<Figure size 808.997x445.48 with 1 Axes>"
      ]
     },
     "execution_count": 12,
     "metadata": {},
     "output_type": "execute_result"
    }
   ],
   "source": [
    "circ = QuantumCircuit(2 * n_qubits, n_qubits)\n",
    "\n",
    "# QFT\n",
    "for i in range(n_qubits):\n",
    "    circ.h(i)\n",
    "\n",
    "circ.barrier()\n",
    "\n",
    "# add Simon oracle\n",
    "draw_simon_oracle(circ, secret, n_qubits)\n",
    "\n",
    "circ.barrier()\n",
    "\n",
    "# IQFT\n",
    "for i in range(n_qubits):\n",
    "    circ.h(i)\n",
    "\n",
    "# measures\n",
    "for i in range(n_qubits):\n",
    "    circ.measure(i, i)\n",
    "\n",
    "# draw circuit\n",
    "circ.draw('mpl')"
   ]
  },
  {
   "cell_type": "markdown",
   "metadata": {},
   "source": [
    "## Shots - probabilities plot"
   ]
  },
  {
   "cell_type": "code",
   "execution_count": 13,
   "metadata": {},
   "outputs": [
    {
     "data": {
      "image/png": "[encoded data removed]",
      "text/plain": [
       "<Figure size 504x360 with 1 Axes>"
      ]
     },
     "execution_count": 13,
     "metadata": {},
     "output_type": "execute_result"
    }
   ],
   "source": [
    "aer_sim = Aer.get_backend('aer_simulator')\n",
    "shots = 1024\n",
    "qobj = assemble(circ, shots = shots)\n",
    "results = aer_sim.run(qobj).result()\n",
    "counts = results.get_counts()\n",
    "plot_histogram(counts)"
   ]
  },
  {
   "cell_type": "markdown",
   "metadata": {},
   "source": [
    "## Collect the vectors"
   ]
  },
  {
   "cell_type": "code",
   "execution_count": 14,
   "metadata": {},
   "outputs": [
    {
     "name": "stdout",
     "output_type": "stream",
     "text": [
      "V0: [0 0 1]\n",
      "V1: [1 1 0]\n",
      "V2: [1 1 1]\n"
     ]
    }
   ],
   "source": [
    "aer_sim = Aer.get_backend('aer_simulator')\n",
    "\n",
    "v_set = set()\n",
    "\n",
    "while len(v_set) < n_qubits:\n",
    "    qobj = assemble(circ, shots = 1)\n",
    "    results = aer_sim.run(qobj).result()\n",
    "    v = list(results.get_counts().keys())[0]\n",
    "    \n",
    "    # don't add trivial result with zeros only\n",
    "    if \"1\" in v:\n",
    "        v_set.add(v)\n",
    "\n",
    "i = 0\n",
    "v_set = sorted(v_set)\n",
    "for v in v_set:\n",
    "    print('V{i}: [{values}]'.format(i = i, values = ' '.join(v)))\n",
    "    i += 1"
   ]
  },
  {
   "cell_type": "markdown",
   "metadata": {},
   "source": [
    "## Extract system of the linear equations (mod 2)"
   ]
  },
  {
   "cell_type": "code",
   "execution_count": 20,
   "metadata": {},
   "outputs": [],
   "source": [
    "import string\n",
    "\n",
    "def get_linear_equations_system(v_mat, skip_coefficients = False):\n",
    "    res = ''\n",
    "    for equation in v_mat:\n",
    "        eq = ''\n",
    "        i = 0\n",
    "        for coefficient in equation:\n",
    "            if skip_coefficients:\n",
    "                if coefficient == 1:\n",
    "                    element = '{variable} + '.format(variable = string.ascii_lowercase[i])\n",
    "                else:\n",
    "                    i += 1\n",
    "                    continue\n",
    "            else:\n",
    "                element = '{value} * {variable} + '.format(value = coefficient, variable = string.ascii_lowercase[i])\n",
    "            eq += element\n",
    "            i += 1\n",
    "        eq = eq.rstrip('+ ')\n",
    "        eq += ' = 0'\n",
    "        res += eq\n",
    "        res += '\\n'\n",
    "    \n",
    "    res.rstrip('\\n')\n",
    "    return res"
   ]
  },
  {
   "cell_type": "code",
   "execution_count": 21,
   "metadata": {},
   "outputs": [
    {
     "name": "stdout",
     "output_type": "stream",
     "text": [
      "Variables:\n",
      "a, b, c\n",
      "\n",
      "System of the linear equations:\n",
      "0 * a + 0 * b + 1 * c = 0\n",
      "1 * a + 1 * b + 0 * c = 0\n",
      "1 * a + 1 * b + 1 * c = 0\n",
      "\n",
      "\n",
      "Reduced system of the linear equations:\n",
      "c = 0\n",
      "a + b = 0\n",
      "a + b + c = 0\n",
      "\n"
     ]
    }
   ],
   "source": [
    "a = []\n",
    "\n",
    "# v_set stores unique results of running circuit as binary strings for example: {\"000\", \"001\" ... }, each item has to be converted to an array\n",
    "for v in v_set:\n",
    "    # cast to int as the 0/1 in v are characters\n",
    "    a.append([int(x) for x in v])\n",
    "\n",
    "a = np.array(a)\n",
    "\n",
    "print(\"Variables:\")\n",
    "variables = ', '.join(string.ascii_lowercase[:n_qubits])\n",
    "print(variables)\n",
    "print()\n",
    "\n",
    "print(\"System of the linear equations:\")\n",
    "system_with_coefficients = get_linear_equations_system(a, skip_coefficients = False)\n",
    "print(system_with_coefficients)\n",
    "print()\n",
    "\n",
    "print(\"Reduced system of the linear equations:\")\n",
    "system_reduced = get_linear_equations_system(a, skip_coefficients = True)\n",
    "print(system_reduced)"
   ]
  },
  {
   "cell_type": "markdown",
   "metadata": {},
   "source": [
    "#### Solving the system of linear equations leads to secret subgroup H."
   ]
  },
  {
   "cell_type": "markdown",
   "metadata": {},
   "source": [
    "## Solving the system of linear equations (mod 2) - requires Selenium with Chrome\n",
    "\n",
    "1. Prepare your environment for Selenium with Chrome using this link: https://shanyitan.medium.com/how-to-install-selenium-and-run-it-successfully-via-jupyter-lab-c3f50d22a0d4\n",
    "2. For solving system of linear equations you might also use this page (https://www.dcode.fr/modular-equation-solver) manually but automated == better :) "
   ]
  },
  {
   "cell_type": "code",
   "execution_count": 17,
   "metadata": {},
   "outputs": [],
   "source": [
    "from selenium.webdriver.common.by import By\n",
    "from selenium import webdriver"
   ]
  },
  {
   "cell_type": "code",
   "execution_count": 27,
   "metadata": {},
   "outputs": [],
   "source": [
    "modular_equation_solver_address = \"https://www.dcode.fr/modular-equation-solver\"\n",
    "\n",
    "driver = webdriver.Chrome()\n",
    "driver.get(modular_equation_solver_address)\n",
    "\n",
    "# paths\n",
    "modular_equation_solver_form_id = \"modular_equation_solver\"\n",
    "modular_equation_solver_input_id = \"modular_equation_solver_input\"\n",
    "modular_equation_solver_modulo_input_id = \"modular_equation_solver_modulo\"\n",
    "modular_equation_solver_variables_input_id = \"modular_equation_solver_variables\"\n",
    "modular_equation_solver_submit_button_xpath = \"//button[@data-post='input,variables,modulo']\"\n",
    "agree_btn_class = \"css-143z3ww\"\n",
    "\n",
    "# elements\n",
    "modular_equation_solver_form = driver.find_element(By.ID, modular_equation_solver_form_id)\n",
    "modular_equation_solver_input = driver.find_element(By.ID, modular_equation_solver_input_id)\n",
    "modular_equation_solver_modulo_input = driver.find_element(By.ID, modular_equation_solver_modulo_input_id)\n",
    "modular_equation_solver_variables_input = driver.find_element(By.ID, modular_equation_solver_variables_input_id)\n",
    "modular_equation_solver_submit_button = driver.find_element(By.XPATH, modular_equation_solver_submit_button_xpath)\n",
    "agree_btn = driver.find_element(By.CLASS_NAME, agree_btn_class)\n",
    "\n",
    "# click on agree btn\n",
    "agree_btn.click()\n",
    "\n",
    "# clear input of equations\n",
    "modular_equation_solver_input.clear()\n",
    "# paste reduced system in input\n",
    "modular_equation_solver_input.send_keys(system_reduced)\n",
    "\n",
    "# clear input of modulo input\n",
    "modular_equation_solver_modulo_input.clear()\n",
    "# paste modulo 2 in input\n",
    "modular_equation_solver_modulo_input.send_keys('2')\n",
    "\n",
    "# clear input of variables input\n",
    "modular_equation_solver_variables_input.clear()\n",
    "# paste variables in input\n",
    "modular_equation_solver_variables_input.send_keys(variables)\n",
    "\n",
    "# submit form \n",
    "modular_equation_solver_submit_button.click()"
   ]
  }
 ],
 "metadata": {
  "interpreter": {
   "hash": "a066a4bfc17e6ff2678d28d8806ad978ab072185f3f8027126b1a582b5c72bb8"
  },
  "kernelspec": {
   "display_name": "Python 3.10.4 ('q-env')",
   "language": "python",
   "name": "python3"
  },
  "language_info": {
   "codemirror_mode": {
    "name": "ipython",
    "version": 3
   },
   "file_extension": ".py",
   "mimetype": "text/x-python",
   "name": "python",
   "nbconvert_exporter": "python",
   "pygments_lexer": "ipython3",
   "version": "3.10.4"
  },
  "orig_nbformat": 4
 },
 "nbformat": 4,
 "nbformat_minor": 2
}
